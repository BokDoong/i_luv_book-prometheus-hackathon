{
  "cells": [
    {
      "cell_type": "markdown",
      "metadata": {
        "id": "view-in-github",
        "colab_type": "text"
      },
      "source": [
        "<a href=\"https://colab.research.google.com/github/BokDoong/prometheus-hackathon-fine-tuning/blob/main/Gpt_Prompt_Engineering%26Papago_API.ipynb\" target=\"_parent\"><img src=\"https://colab.research.google.com/assets/colab-badge.svg\" alt=\"Open In Colab\"/></a>"
      ]
    },
    {
      "cell_type": "markdown",
      "source": [
        "# **해커톤**"
      ],
      "metadata": {
        "id": "Hk7hiRuk-g9O"
      }
    },
    {
      "cell_type": "markdown",
      "source": [
        "## GPT Api"
      ],
      "metadata": {
        "id": "LnyJEmgm-Bpw"
      }
    },
    {
      "cell_type": "code",
      "execution_count": null,
      "metadata": {
        "id": "adwWmqTbAu2Z",
        "colab": {
          "base_uri": "https://localhost:8080/"
        },
        "outputId": "3c85273a-8c09-490e-e1a5-7a8ad336704c"
      },
      "outputs": [
        {
          "output_type": "stream",
          "name": "stdout",
          "text": [
            "Collecting openai\n",
            "  Downloading openai-1.10.0-py3-none-any.whl (225 kB)\n",
            "\u001b[2K     \u001b[90m━━━━━━━━━━━━━━━━━━━━━━━━━━━━━━━━━━━━━━━━\u001b[0m \u001b[32m225.1/225.1 kB\u001b[0m \u001b[31m1.3 MB/s\u001b[0m eta \u001b[36m0:00:00\u001b[0m\n",
            "\u001b[?25hRequirement already satisfied: anyio<5,>=3.5.0 in /usr/local/lib/python3.10/dist-packages (from openai) (3.7.1)\n",
            "Requirement already satisfied: distro<2,>=1.7.0 in /usr/lib/python3/dist-packages (from openai) (1.7.0)\n",
            "Collecting httpx<1,>=0.23.0 (from openai)\n",
            "  Downloading httpx-0.26.0-py3-none-any.whl (75 kB)\n",
            "\u001b[2K     \u001b[90m━━━━━━━━━━━━━━━━━━━━━━━━━━━━━━━━━━━━━━━━\u001b[0m \u001b[32m75.9/75.9 kB\u001b[0m \u001b[31m1.3 MB/s\u001b[0m eta \u001b[36m0:00:00\u001b[0m\n",
            "\u001b[?25hRequirement already satisfied: pydantic<3,>=1.9.0 in /usr/local/lib/python3.10/dist-packages (from openai) (1.10.14)\n",
            "Requirement already satisfied: sniffio in /usr/local/lib/python3.10/dist-packages (from openai) (1.3.0)\n",
            "Requirement already satisfied: tqdm>4 in /usr/local/lib/python3.10/dist-packages (from openai) (4.66.1)\n",
            "Collecting typing-extensions<5,>=4.7 (from openai)\n",
            "  Downloading typing_extensions-4.9.0-py3-none-any.whl (32 kB)\n",
            "Requirement already satisfied: idna>=2.8 in /usr/local/lib/python3.10/dist-packages (from anyio<5,>=3.5.0->openai) (3.6)\n",
            "Requirement already satisfied: exceptiongroup in /usr/local/lib/python3.10/dist-packages (from anyio<5,>=3.5.0->openai) (1.2.0)\n",
            "Requirement already satisfied: certifi in /usr/local/lib/python3.10/dist-packages (from httpx<1,>=0.23.0->openai) (2023.11.17)\n",
            "Collecting httpcore==1.* (from httpx<1,>=0.23.0->openai)\n",
            "  Downloading httpcore-1.0.2-py3-none-any.whl (76 kB)\n",
            "\u001b[2K     \u001b[90m━━━━━━━━━━━━━━━━━━━━━━━━━━━━━━━━━━━━━━━━\u001b[0m \u001b[32m76.9/76.9 kB\u001b[0m \u001b[31m1.4 MB/s\u001b[0m eta \u001b[36m0:00:00\u001b[0m\n",
            "\u001b[?25hCollecting h11<0.15,>=0.13 (from httpcore==1.*->httpx<1,>=0.23.0->openai)\n",
            "  Downloading h11-0.14.0-py3-none-any.whl (58 kB)\n",
            "\u001b[2K     \u001b[90m━━━━━━━━━━━━━━━━━━━━━━━━━━━━━━━━━━━━━━━━\u001b[0m \u001b[32m58.3/58.3 kB\u001b[0m \u001b[31m1.4 MB/s\u001b[0m eta \u001b[36m0:00:00\u001b[0m\n",
            "\u001b[?25hInstalling collected packages: typing-extensions, h11, httpcore, httpx, openai\n",
            "  Attempting uninstall: typing-extensions\n",
            "    Found existing installation: typing_extensions 4.5.0\n",
            "    Uninstalling typing_extensions-4.5.0:\n",
            "      Successfully uninstalled typing_extensions-4.5.0\n",
            "\u001b[31mERROR: pip's dependency resolver does not currently take into account all the packages that are installed. This behaviour is the source of the following dependency conflicts.\n",
            "llmx 0.0.15a0 requires cohere, which is not installed.\n",
            "llmx 0.0.15a0 requires tiktoken, which is not installed.\n",
            "tensorflow-probability 0.22.0 requires typing-extensions<4.6.0, but you have typing-extensions 4.9.0 which is incompatible.\u001b[0m\u001b[31m\n",
            "\u001b[0mSuccessfully installed h11-0.14.0 httpcore-1.0.2 httpx-0.26.0 openai-1.10.0 typing-extensions-4.9.0\n"
          ]
        }
      ],
      "source": [
        "pip install openai"
      ]
    },
    {
      "cell_type": "code",
      "execution_count": null,
      "metadata": {
        "id": "FgMJaug5pwOX"
      },
      "outputs": [],
      "source": [
        "from openai import OpenAI"
      ]
    },
    {
      "cell_type": "code",
      "source": [
        "# API Key\n",
        "client = OpenAI(\n",
        "    api_key=\"\",\n",
        ")"
      ],
      "metadata": {
        "id": "8vpYztm4Emzd"
      },
      "execution_count": null,
      "outputs": []
    },
    {
      "cell_type": "code",
      "source": [
        "# 동화 생성\n",
        "tale = client.with_options(max_retries=0).chat.completions.create(\n",
        "    messages=[\n",
        "        {\n",
        "            \"role\": \"system\",\n",
        "            \"content\": \"You are a writer who makes a new English fairy tale for children aged 5 to 10. I will give you a keyword, but you can make a fairy tale based on the keywords entered. Please consider that the keyword is Korean because it is shown to Korean children.\",\n",
        "        },\n",
        "        {\n",
        "            \"role\": \"assistant\",\n",
        "            \"content\": \"Keywords are 가지, 농부, and 산.\",\n",
        "        },\n",
        "        {\n",
        "            \"role\": \"user\",\n",
        "            \"content\": \"Please make an English fairy tale based on keywords and its title. Please make it less than 2,000 characters.\",\n",
        "        },\n",
        "    ],\n",
        "    model=\"gpt-4-1106-preview\",\n",
        ")\n",
        "\n",
        "print(tale.choices[0].message.content)"
      ],
      "metadata": {
        "colab": {
          "base_uri": "https://localhost:8080/"
        },
        "id": "Icbl2-wR8E0a",
        "outputId": "bd59f0fa-aa74-4397-ffa2-642531bf5077"
      },
      "execution_count": null,
      "outputs": [
        {
          "output_type": "stream",
          "name": "stdout",
          "text": [
            "Title: The Eggplant Farmer and the Mountain Spirit\n",
            "\n",
            "Once upon a time in a picturesque Korean village, nestled between lush rice paddies and emerald forests, there lived a humble eggplant farmer named Kim. One day, while tending to his 가지 (eggplants), Kim discovered a sparkling stone in the soil. Unknown to him, it was a precious gem that belonged to the mountain spirit of 산 (mountain).\n",
            "\n",
            "As night fell, a gentle wind whispered through the fields, and Kim heard a soft voice. \"Kind farmer, you have found my treasure,\" said the spirit as it appeared before him, cloaked in a shimmering mist. \"As a reward for your honesty, I shall grant you a wish.\"\n",
            "\n",
            "Surprised and grateful, Kim pondered his wish. \"Dear spirit, my dream is not for gold or fame. I wish for my 가지 to bring joy to the people of this village. May they be the most delicious and bountiful in all the land.\"\n",
            "\n",
            "The spirit smiled, \"This wish is pure and selfless. It shall be done.\" With a wave of its ethereal hand, the spirit cast a magical glow upon the fields. From that day forward, Kim's eggplants grew in abundance, nourishing and delighting everyone who tasted them, including children who'd never liked eggplants before.\n",
            "\n",
            "Word of the marvelous 가지 spread across Korea, and people from far and wide visited the village to taste the eggplants. Kim's kindness had created a small wonder for his community, and his farm became a place of happiness and laughter.\n",
            "\n",
            "The mountain spirit watched over Kim and the village, ensuring that the land remained fertile and the people content. The villagers, in turn, respected the mountain and the gifts of nature, living harmoniously with the earth.\n",
            "\n",
            "And so, children in Korea learned the tales of the humble eggplant farmer and the benevolent mountain spirit. They carry the lessons of honesty, generosity, and the importance of living in harmony with nature. And as for Kim, well, his legacy lives on through every purple, delicious 가지 that grows beneath the shadow of the great 산. \n",
            "\n",
            "The end.\n"
          ]
        }
      ]
    },
    {
      "cell_type": "code",
      "source": [
        "word = client.with_options(max_retries=0).chat.completions.create(\n",
        "    messages=[\n",
        "        {\n",
        "            \"role\": \"system\",\n",
        "            \"content\": \"You are a educator who educate Korean children aged 5 to 10. I will give you a tale, and you can recommend 10 words.\",\n",
        "        },\n",
        "        {\n",
        "            \"role\": \"assistant\",\n",
        "            \"content\": \"Tale is \" + tale.choices[0].message.content,\n",
        "        },\n",
        "        {\n",
        "            \"role\": \"user\",\n",
        "            \"content\": \"Please recommend 10 words that children aged 5 to 10 should know in fairy tales. Please give me words that children can study, not difficult ones.\",\n",
        "        },\n",
        "    ],\n",
        "    model=\"gpt-4-1106-preview\",\n",
        ")\n",
        "\n",
        "print(word.choices[0].message.content)"
      ],
      "metadata": {
        "colab": {
          "base_uri": "https://localhost:8080/"
        },
        "id": "vWtL-eRlYq9j",
        "outputId": "80a4c03a-dd23-46e8-d3d7-080af9f3d20b"
      },
      "execution_count": null,
      "outputs": [
        {
          "output_type": "stream",
          "name": "stdout",
          "text": [
            "Certainly! Here are ten words from the tale that children aged 5 to 10 might find educational and appropriate:\n",
            "\n",
            "1. 가지 (Eggplant) - Encourages children to learn the names of vegetables and plants.\n",
            "2. 마을 (Village) - A basic word for a small community, commonly found in many tales.\n",
            "3. 산 (Mountain) - Introduces geography and nature terms.\n",
            "4. 농부 (Farmer) - Teaches children about occupations and people who grow our food.\n",
            "5. 정직한 (Honest) - A value to be learned and a trait often celebrated in stories.\n",
            "6. 보물 (Treasure) - A common element in fairy tales that sparks interest and mystery.\n",
            "7. 소원 (Wish) - Encourages imagination and the concept of hope or desire.\n",
            "8. 정령 (Spirit) - Often found in folklore, representing non-human beings with power.\n",
            "9. 기쁨 (Joy) - An emotion word to express happiness and pleasure.\n",
            "10. 조화 (Harmony) - Helps to teach the idea of balance and living peacefully, which is a common theme in tales.\n",
            "\n",
            "These words are chosen to be simple enough for young children to understand with explanation and are common in many Korean stories. They help enrich vocabulary while being directly tied to tangible concepts and values within the tale.\n"
          ]
        }
      ]
    },
    {
      "cell_type": "code",
      "source": [
        "# 동화 + 주요 단어 생성\n",
        "tale = client.with_options(max_retries=0).chat.completions.create(\n",
        "    messages=[\n",
        "        {\n",
        "            \"role\": \"system\",\n",
        "            \"content\": \"You are a writer who makes a new English fairy tale for children aged 5 to 10. I will give you a keyword, but you can make a fairy tale based on the keywords entered. Please consider that the keyword is Korean because it is shown to Korean children.\",\n",
        "        },\n",
        "        {\n",
        "            \"role\": \"assistant\",\n",
        "            \"content\": \"Keywords are 농부, 어부, 금붕어, and 도시.\",\n",
        "        },\n",
        "        {\n",
        "            \"role\": \"user\",\n",
        "            \"content\": \"Please make an English fairy tale based on keywords and its title. Please make it less than 2,000 characters.\",\n",
        "        },\n",
        "        {\n",
        "            \"role\": \"user\",\n",
        "            \"content\": \"And pick 8 words that will help children educationally from your English fairy tale. Please distinguish between fairy tales and words as ---.\",\n",
        "        },\n",
        "    ],\n",
        "    model=\"gpt-4-1106-preview\",\n",
        ")\n",
        "\n",
        "print(tale.choices[0].message.content)"
      ],
      "metadata": {
        "colab": {
          "base_uri": "https://localhost:8080/"
        },
        "id": "bjhzolqZyv-7",
        "outputId": "6f75f9b4-ffa4-4042-e8b5-0881433d16dc"
      },
      "execution_count": null,
      "outputs": [
        {
          "output_type": "stream",
          "name": "stdout",
          "text": [
            "Title: The Farmer, the Fisherman, and the Golden Fish\n",
            "\n",
            "Once, nestled between rippling hills and a vast sea, lay a tiny village where a kind-hearted farmer named Min-ho lived. Across a glistening stream, Jin-woo, a hardworking fisherman, cast his nets daily. Despite their toils, both men barely had enough to survive, for the village was overshadowed by a towering city where a greedy mayor hoarded all the wealth.\n",
            "\n",
            "One day, Min-ho found a golden fish floundering in his field after a night of heavy rain. Astonished by its sparkling scales, he gently carried it to Jin-woo, who knew best about fish.\n",
            "\n",
            "\"Dear friend,\" pleaded the fish, \"if you release me back to the sea, I will grant each of you a wish.\"\n",
            "\n",
            "Min-ho's heart swelled with desire to see his crops flourish, while Jin-woo yearned for a bountiful catch. They agreed and released the fish back into the sea.\n",
            "\n",
            "The next morning, Min-ho's fields bloomed with the most luscious fruits and vegetables, and Jin-woo's nets teemed with fish. The villagers rejoiced at their newfound prosperity.\n",
            "\n",
            "However, the greedy mayor, hearing of this miracle, captured the golden fish and demanded endless riches. The golden fish wept, and suddenly, a curse befell the city - wealth disappeared, and the air turned cold.\n",
            "\n",
            "Min-ho and Jin-woo, guided by the memory of the fish's kindness, decided to help. They offered the mayor their own harvest and catch to feed the city in exchange for the golden fish's freedom.\n",
            "\n",
            "The mayor, humbled by the generosity of the villagers, learned the value of sharing. From that day on, the city thrived, not on stored treasure, but on the goodwill of its people.\n",
            "\n",
            "Min-ho and Jin-woo, with the golden fish swimming freely in the sea, reminded everyone that true riches come from a heart that knows the joy of giving.\n",
            "\n",
            "---\n",
            "\n",
            "Educational words:\n",
            "1. Astonished - surprised greatly; amazed.\n",
            "2. Floundering - struggling or staggering clumsily.\n",
            "3. Prosperity - the state of being prosperous; success and wealth.\n",
            "4. Rejoiced - felt or showed great joy or delight.\n",
            "5. Bountiful - large in quantity; abundant.\n",
            "6. Teemed - was full of or swarmed with.\n",
            "7. Humble - having or showing a modest or low estimate of one's importance.\n",
            "8. Thrived - prospered; flourished.\n"
          ]
        }
      ]
    },
    {
      "cell_type": "code",
      "source": [
        "# 퀴즈 생성\n",
        "tale = client.with_options(max_retries=0).chat.completions.create(\n",
        "    messages=[\n",
        "        {\n",
        "            \"role\": \"system\",\n",
        "            \"content\": \"You are a test-taker who makes questions based on English fairy tales for children ages 5 to 10. Please consider the level of the children and make questions that fit the type of questions I give you.\",\n",
        "        },\n",
        "        {\n",
        "            \"role\": \"assistant\",\n",
        "            \"content\": \"You can ask questions based on this English fairy tale. Fairy tale: \" + tale.choices[0].message.content,\n",
        "        },\n",
        "        {\n",
        "          \"role\": \"assistant\",\n",
        "          \"content\": \"Here are the types of questions.\\n 1. Content comprehension problem: a three-point multiple-choice multiple-choice problem to confirm content comprehension\\n 2. Word short answer question: a short answer question that gives words from fairy tales and writes down their meanings\\n 3. Word Multiple choice question: multiple choice question to give the word from a fairy tale and choose the meaning from the choice\\n 4. Blank short answer question: Write a word in the blank by randomly giving one of the sentences from the fairy tale and the word from the sentence\\n 5. Blank Multiple-choice questions: Multiple-choice questions to choose the right word from the choice by randomly selecting one of the sentences from the fairy tale and giving the word from the sentence as the blank\\n 6. Multiple-choice questions for the title: multiple-choice questions for choosing the title of an English fairy tale.\"\n",
        "        },\n",
        "        {\n",
        "            \"role\": \"user\",\n",
        "            \"content\": \"Please make 2 Content comprehension problems and 3 Blank short answer questions\",\n",
        "        },\n",
        "    ],\n",
        "    model=\"gpt-4-1106-preview\",\n",
        "    temperature=0.8,\n",
        ")\n",
        "\n",
        "print(tale.choices[0].message.content)"
      ],
      "metadata": {
        "colab": {
          "base_uri": "https://localhost:8080/"
        },
        "id": "GemHrfHPEjuJ",
        "outputId": "5c5eb7bb-e05f-40e8-e64b-b57a9ed3ab58"
      },
      "execution_count": null,
      "outputs": [
        {
          "output_type": "stream",
          "name": "stdout",
          "text": [
            "### Content Comprehension Problems:\n",
            "\n",
            "1. **Question:** What did the golden fish promise to the farmer and the fisherman if they released it back into the sea?\n",
            "   - A) To make them rulers of the city.\n",
            "   - B) To grant each of them a wish.\n",
            "   - C) To give them a treasure chest.\n",
            "   - D) To turn them into golden fish.\n",
            "\n",
            "**Correct Answer:** B) To grant each of them a wish.\n",
            "\n",
            "2. **Question:** How did the mayor of the city react when he heard about the golden fish?\n",
            "   - A) He asked the villagers to share their food with the city.\n",
            "   - B) He released the golden fish back into the sea.\n",
            "   - C) He captured the golden fish and demanded endless riches.\n",
            "   - D) He helped Min-ho and Jin-woo with their work.\n",
            "\n",
            "**Correct Answer:** C) He captured the golden fish and demanded endless riches.\n",
            "\n",
            "### Blank Short Answer Questions:\n",
            "\n",
            "1. **Sentence:** The farmer's name was __________, and he lived in a tiny village.\n",
            "   - **Answer:** Min-ho\n",
            "\n",
            "2. **Sentence:** The fisherman, __________, would cast his nets daily in hopes of a good catch.\n",
            "   - **Answer:** Jin-woo\n",
            "\n",
            "3. **Sentence:** After the golden fish was released, Min-ho's fields bloomed with the most luscious fruits and vegetables, while Jin-woo's nets __________ with fish.\n",
            "   - **Answer:** teemed\n"
          ]
        }
      ]
    },
    {
      "cell_type": "markdown",
      "source": [
        "## 파파고 API"
      ],
      "metadata": {
        "id": "3gqDoFv19-y4"
      }
    },
    {
      "cell_type": "code",
      "source": [
        "# 사용할 라이브러리 import, 정보 등록\n",
        "import requests\n",
        "import json"
      ],
      "metadata": {
        "id": "RE6Op0ea957d"
      },
      "execution_count": null,
      "outputs": []
    },
    {
      "cell_type": "code",
      "source": [
        "# translate 함수 선언\n",
        "def translate(text, source='ko', target='en'):\n",
        "    CLIENT_ID, CLIENT_SECRET = 'le6OOku520KPXHp0uJbE', 'Y0ofxEvjHT'\n",
        "    url = 'https://openapi.naver.com/v1/papago/n2mt'\n",
        "    headers = {\n",
        "        'Content-Type': 'application/json',\n",
        "        'X-Naver-Client-Id': CLIENT_ID,\n",
        "        'X-Naver-Client-Secret': CLIENT_SECRET\n",
        "    }\n",
        "    data = {'source': 'en', 'target': 'ko', 'text': text}\n",
        "    response = requests.post(url, json.dumps(data), headers=headers)\n",
        "    return response.json()['message']['result']['translatedText']"
      ],
      "metadata": {
        "id": "CGcWzMeu-O_C"
      },
      "execution_count": null,
      "outputs": []
    },
    {
      "cell_type": "code",
      "source": [
        "# 번역할 문장 입력 후 함수에 전달\n",
        "en_text = translate('apple')\n",
        "print(en_text)"
      ],
      "metadata": {
        "colab": {
          "base_uri": "https://localhost:8080/"
        },
        "id": "mBbkbrqE-aIn",
        "outputId": "0a1271d5-6718-45c7-e01f-35793b621d35"
      },
      "execution_count": null,
      "outputs": [
        {
          "output_type": "stream",
          "name": "stdout",
          "text": [
            "사과\n"
          ]
        }
      ]
    }
  ],
  "metadata": {
    "colab": {
      "provenance": [],
      "authorship_tag": "ABX9TyM7+GxhhGIhyd9UemXjTFjZ",
      "include_colab_link": true
    },
    "kernelspec": {
      "display_name": "Python 3",
      "name": "python3"
    },
    "language_info": {
      "name": "python"
    }
  },
  "nbformat": 4,
  "nbformat_minor": 0
}