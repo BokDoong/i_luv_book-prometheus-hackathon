{
  "nbformat": 4,
  "nbformat_minor": 0,
  "metadata": {
    "colab": {
      "provenance": [],
      "authorship_tag": "ABX9TyNAAG5drK0EiZmwofB6TbgF",
      "include_colab_link": true
    },
    "kernelspec": {
      "name": "python3",
      "display_name": "Python 3"
    },
    "language_info": {
      "name": "python"
    }
  },
  "cells": [
    {
      "cell_type": "markdown",
      "metadata": {
        "id": "view-in-github",
        "colab_type": "text"
      },
      "source": [
        "<a href=\"https://colab.research.google.com/github/BokDoong/prometheus-hackathon-fine-tuning/blob/main/Prometheus_GPT_Fine_Tuning.ipynb\" target=\"_parent\"><img src=\"https://colab.research.google.com/assets/colab-badge.svg\" alt=\"Open In Colab\"/></a>"
      ]
    },
    {
      "cell_type": "code",
      "execution_count": null,
      "metadata": {
        "colab": {
          "base_uri": "https://localhost:8080/"
        },
        "id": "artqcLPtoxuy",
        "outputId": "e3431c62-4764-4e3d-d915-e2b2bf5bcc07"
      },
      "outputs": [
        {
          "output_type": "stream",
          "name": "stdout",
          "text": [
            "Collecting openai\n",
            "  Downloading openai-1.10.0-py3-none-any.whl (225 kB)\n",
            "\u001b[?25l     \u001b[90m━━━━━━━━━━━━━━━━━━━━━━━━━━━━━━━━━━━━━━━━\u001b[0m \u001b[32m0.0/225.1 kB\u001b[0m \u001b[31m?\u001b[0m eta \u001b[36m-:--:--\u001b[0m\r\u001b[2K     \u001b[91m━━━━━━━━━━━━━━━━━━━━━━━━━━━━━━━━━━━━━━\u001b[0m\u001b[90m╺\u001b[0m\u001b[90m━\u001b[0m \u001b[32m215.0/225.1 kB\u001b[0m \u001b[31m7.1 MB/s\u001b[0m eta \u001b[36m0:00:01\u001b[0m\r\u001b[2K     \u001b[90m━━━━━━━━━━━━━━━━━━━━━━━━━━━━━━━━━━━━━━━━\u001b[0m \u001b[32m225.1/225.1 kB\u001b[0m \u001b[31m5.8 MB/s\u001b[0m eta \u001b[36m0:00:00\u001b[0m\n",
            "\u001b[?25hRequirement already satisfied: anyio<5,>=3.5.0 in /usr/local/lib/python3.10/dist-packages (from openai) (3.7.1)\n",
            "Requirement already satisfied: distro<2,>=1.7.0 in /usr/lib/python3/dist-packages (from openai) (1.7.0)\n",
            "Collecting httpx<1,>=0.23.0 (from openai)\n",
            "  Downloading httpx-0.26.0-py3-none-any.whl (75 kB)\n",
            "\u001b[2K     \u001b[90m━━━━━━━━━━━━━━━━━━━━━━━━━━━━━━━━━━━━━━━━\u001b[0m \u001b[32m75.9/75.9 kB\u001b[0m \u001b[31m11.5 MB/s\u001b[0m eta \u001b[36m0:00:00\u001b[0m\n",
            "\u001b[?25hRequirement already satisfied: pydantic<3,>=1.9.0 in /usr/local/lib/python3.10/dist-packages (from openai) (1.10.14)\n",
            "Requirement already satisfied: sniffio in /usr/local/lib/python3.10/dist-packages (from openai) (1.3.0)\n",
            "Requirement already satisfied: tqdm>4 in /usr/local/lib/python3.10/dist-packages (from openai) (4.66.1)\n",
            "Collecting typing-extensions<5,>=4.7 (from openai)\n",
            "  Downloading typing_extensions-4.9.0-py3-none-any.whl (32 kB)\n",
            "Requirement already satisfied: idna>=2.8 in /usr/local/lib/python3.10/dist-packages (from anyio<5,>=3.5.0->openai) (3.6)\n",
            "Requirement already satisfied: exceptiongroup in /usr/local/lib/python3.10/dist-packages (from anyio<5,>=3.5.0->openai) (1.2.0)\n",
            "Requirement already satisfied: certifi in /usr/local/lib/python3.10/dist-packages (from httpx<1,>=0.23.0->openai) (2023.11.17)\n",
            "Collecting httpcore==1.* (from httpx<1,>=0.23.0->openai)\n",
            "  Downloading httpcore-1.0.2-py3-none-any.whl (76 kB)\n",
            "\u001b[2K     \u001b[90m━━━━━━━━━━━━━━━━━━━━━━━━━━━━━━━━━━━━━━━━\u001b[0m \u001b[32m76.9/76.9 kB\u001b[0m \u001b[31m11.2 MB/s\u001b[0m eta \u001b[36m0:00:00\u001b[0m\n",
            "\u001b[?25hCollecting h11<0.15,>=0.13 (from httpcore==1.*->httpx<1,>=0.23.0->openai)\n",
            "  Downloading h11-0.14.0-py3-none-any.whl (58 kB)\n",
            "\u001b[2K     \u001b[90m━━━━━━━━━━━━━━━━━━━━━━━━━━━━━━━━━━━━━━━━\u001b[0m \u001b[32m58.3/58.3 kB\u001b[0m \u001b[31m8.4 MB/s\u001b[0m eta \u001b[36m0:00:00\u001b[0m\n",
            "\u001b[?25hInstalling collected packages: typing-extensions, h11, httpcore, httpx, openai\n",
            "  Attempting uninstall: typing-extensions\n",
            "    Found existing installation: typing_extensions 4.5.0\n",
            "    Uninstalling typing_extensions-4.5.0:\n",
            "      Successfully uninstalled typing_extensions-4.5.0\n",
            "\u001b[31mERROR: pip's dependency resolver does not currently take into account all the packages that are installed. This behaviour is the source of the following dependency conflicts.\n",
            "llmx 0.0.15a0 requires cohere, which is not installed.\n",
            "llmx 0.0.15a0 requires tiktoken, which is not installed.\n",
            "tensorflow-probability 0.22.0 requires typing-extensions<4.6.0, but you have typing-extensions 4.9.0 which is incompatible.\u001b[0m\u001b[31m\n",
            "\u001b[0mSuccessfully installed h11-0.14.0 httpcore-1.0.2 httpx-0.26.0 openai-1.10.0 typing-extensions-4.9.0\n"
          ]
        }
      ],
      "source": [
        "pip install openai"
      ]
    },
    {
      "cell_type": "code",
      "source": [
        "from pathlib import Path\n",
        "from openai import OpenAI\n",
        "\n",
        "# API Key\n",
        "client = OpenAI(\n",
        "    api_key=\"My ChatGPT API Key\",\n",
        ")\n",
        "\n",
        "client.files.create(\n",
        "    file=Path(\"/content/fintune_messages.jsonl\"),\n",
        "    purpose=\"fine-tune\",\n",
        ")\n"
      ],
      "metadata": {
        "colab": {
          "base_uri": "https://localhost:8080/"
        },
        "id": "LbvX7B0Ho03L",
        "outputId": "5c83487a-9de3-43b1-aaf8-b87f52191ebd"
      },
      "execution_count": null,
      "outputs": [
        {
          "output_type": "execute_result",
          "data": {
            "text/plain": [
              "FileObject(id='file-EX4BYL688WwngWxFTpwjFmkO', bytes=11766, created_at=1706900351, filename='fintune_messages.jsonl', object='file', purpose='fine-tune', status='processed', status_details=None)"
            ]
          },
          "metadata": {},
          "execution_count": 2
        }
      ]
    },
    {
      "cell_type": "code",
      "source": [
        "# FineTuning\n",
        "try:\n",
        "    client.fine_tuning.jobs.create(\n",
        "        model=\"gpt-3.5-turbo\",\n",
        "        training_file=\"file-xmplT8670EhbBYG4v0z33Bc1\",\n",
        "    )\n",
        "except openai.APIConnectionError as e:\n",
        "    print(\"The server could not be reached\")\n",
        "    print(e.__cause__)  # an underlying Exception, likely raised within httpx.\n",
        "except openai.RateLimitError as e:\n",
        "    print(\"A 429 status code was received; we should back off a bit.\")\n",
        "except openai.APIStatusError as e:\n",
        "    print(\"Another non-200-range status code was received\")\n",
        "    print(e.status_code)\n",
        "    print(e.response)"
      ],
      "metadata": {
        "id": "PGTwqrb2FJTN"
      },
      "execution_count": null,
      "outputs": []
    },
    {
      "cell_type": "code",
      "source": [
        "# Re-FineTuning\n",
        "try:\n",
        "    client.fine_tuning.jobs.create(\n",
        "        model=\"ft:gpt-3.5-turbo-0613:personal::8nxEQUGQ\",\n",
        "        training_file=\"file-EX4BYL688WwngWxFTpwjFmkO\",\n",
        "    )\n",
        "except openai.APIConnectionError as e:\n",
        "    print(\"The server could not be reached\")\n",
        "    print(e.__cause__)  # an underlying Exception, likely raised within httpx.\n",
        "except openai.RateLimitError as e:\n",
        "    print(\"A 429 status code was received; we should back off a bit.\")\n",
        "except openai.APIStatusError as e:\n",
        "    print(\"Another non-200-range status code was received\")\n",
        "    print(e.status_code)\n",
        "    print(e.response)"
      ],
      "metadata": {
        "id": "oRHBHXTuZ7Dd"
      },
      "execution_count": null,
      "outputs": []
    },
    {
      "cell_type": "code",
      "source": [
        "# Testing1\n",
        "import time\n",
        "\n",
        "start = time.time()\n",
        "tale = client.with_options(max_retries=0).chat.completions.create(\n",
        "    messages=[\n",
        "        {\n",
        "            \"role\": \"user\",\n",
        "            \"content\": \"please make me an english tale for Korean Elementary school with keywords lions, people, square, cheese\"\n",
        "        },\n",
        "    ],\n",
        "    model=\"gpt-3.5-turbo\",\n",
        ")\n",
        "\n",
        "end = time.time()\n",
        "print(tale.choices[0].message.content)\n",
        "print(\"\\n\\nProcessing Time before Fine-Tuning : \", end-start)"
      ],
      "metadata": {
        "colab": {
          "base_uri": "https://localhost:8080/"
        },
        "id": "gl4_VUxhPuf8",
        "outputId": "00ea19a3-0591-49d6-9232-8d23a54ff5a5"
      },
      "execution_count": null,
      "outputs": [
        {
          "output_type": "stream",
          "name": "stdout",
          "text": [
            "Once upon a time, in a bustling city in England, there was a beautiful square filled with colorful flowers, tall trees, and happy children. This square was the heart of the city, always bustling with laughter and chatter. People from all walks of life would gather here, creating a vibrant atmosphere.\n",
            "\n",
            "One sunny afternoon, as the square was buzzing with excitement, something extraordinary happened. Suddenly, two majestic lions appeared, roaming fearlessly through the square. Gasps and whispers filled the air as people marveled at this unexpected sight.\n",
            "\n",
            "The lions, with their golden manes and piercing eyes, turned out to be gentle creatures who seemed friendly and playful. People cautiously approached them, mesmerized by their presence. The lions, sensing the curiosity and warmth from the crowd, welcomed the attention.\n",
            "\n",
            "In the midst of the commotion, a little girl named Mia, who was visiting the square with her family, caught the eye of one of the lions. The lion walked over to her, sitting majestically beside her. Mia's heart skipped a beat, but she stayed calm, extending her small hand towards the lion with a shy smile.\n",
            "\n",
            "Surprisingly, the lion responded by gently rubbing its head against Mia's hand as if it wanted to be petted. The people in the square watched in awe and admiration. The bond between Mia and the lion was magical, bridging the gap between humans and animals.\n",
            "\n",
            "News of the friendly lions in the square spread rapidly throughout the city. People from far and wide came to witness this incredible phenomenon. The square became a meeting point for people fascinated by the gentle giants.\n",
            "\n",
            "The city council saw the harmonious connection between people and animals and decided to create a beautiful statue in honor of the two special lions. The statue was placed in the square, reminding everyone of the extraordinary incident and the power of unity and compassion.\n",
            "\n",
            "As a token of gratitude, Mia's family invited the lion that connected with her to a celebration at their house. Along with the lion, Mia's family prepared a delicious treat – a platter of various types of cheese! This became the highlight of their special gathering.\n",
            "\n",
            "From that day forward, the cheese became a symbol of peace and friendship between lions and humans. Every year, on the anniversary of the visitation, people in the city shared cheese with one another, fostering a sense of togetherness and unity.\n",
            "\n",
            "And so, the tale of the lions, people, the square, and the cheese inspired generations to value kindness, understanding, and the incredible bond that can form between humans and animals. It taught them that even the most unexpected encounters can create an everlasting impact on the world.\n",
            "\n",
            "\n",
            "Processing Time before Fine-Tuning :  30.590168952941895\n"
          ]
        }
      ]
    },
    {
      "cell_type": "code",
      "source": [
        "# Testing2\n",
        "import time\n",
        "\n",
        "start = time.time()\n",
        "tale = client.with_options(max_retries=0).chat.completions.create(\n",
        "    messages=[\n",
        "        {\n",
        "            \"role\": \"user\",\n",
        "            \"content\": \"please make me an english tale for Korean Elementary school with keywords lions, people, square, cheese\"\n",
        "        },\n",
        "    ],\n",
        "    model=\"ft:gpt-3.5-turbo-0613:personal::8nwOilLm\",\n",
        ")\n",
        "\n",
        "end = time.time()\n",
        "print(tale.choices[0].message.content)\n",
        "print(\"\\n\\nProcessing Time after Fine-Tuning : \", end-start)"
      ],
      "metadata": {
        "colab": {
          "base_uri": "https://localhost:8080/"
        },
        "id": "ZBa-VW90hetU",
        "outputId": "e11b070e-5f92-4f6b-9cd3-6623168fa257"
      },
      "execution_count": null,
      "outputs": [
        {
          "output_type": "stream",
          "name": "stdout",
          "text": [
            "Once upon a time, in a small village in Korea, there lived a group of friendly lions. These lions were not like the ones you find in the wild – they were special lions who could speak and act just like humans.\n",
            "\n",
            "The village was known as People Square, as it was always filled with people going about their daily lives. The villagers loved living in harmony with the lions and believed that the lions brought them good luck and protection.\n",
            "\n",
            "One day, a kind-hearted villager named Mr. Kim decided to offer something special to the lions as a token of appreciation. He had heard that lions loved to eat cheese, so he decided to make a delicious plate of cheese for them.\n",
            "\n",
            "Mr. Kim went to the market and bought the finest cheese he could find. He carefully crafted a plate full of different kinds of cheese – cheddar, mozzarella, blue cheese – you name it, he had it!\n",
            "\n",
            "Excited, Mr. Kim brought the cheese plate to the village square, where all the lions gathered every afternoon. The villagers joined in, eager to see how the lions would react to the surprise.\n",
            "\n",
            "As soon as the lions saw Mr. Kim approaching with the cheese plate, they all gathered around him, their eyes wide with anticipation. Mr. Kim knew he had made the right choice – the lions were truly fond of cheese!\n",
            "\n",
            "Mr. Kim placed the cheese plate on the ground, and the lions couldn't contain their excitement. They sniffed the cheese, licked their lips, and each lion took a small piece of cheese to taste.\n",
            "\n",
            "To Mr. Kim's amazement, the lions didn't devour all the cheese at once. Instead, they shared it amongst themselves, ensuring that each lion had a fair share. It was a beautiful sight to behold – the lions peacefully enjoying their afternoon treat.\n",
            "\n",
            "The villagers couldn't help but feel grateful for having such remarkable creatures living amongst them. They realized how blessed they were to share their lives with such noble and gentle lions.\n",
            "\n",
            "From that day forward, the villagers made it a tradition to offer cheese to the lions every month. Whenever someone had a birthday or a special occasion, they would always remember to include the lions in their celebration.\n",
            "\n",
            "The presence of the lions brought joy and unity to the village. They became a symbol of love and friendship, reminding the villagers to always look out for one another. The villagers learned to appreciate the small things in life and respect the nature that surrounded them.\n",
            "\n",
            "And so, the story of the lions and the cheese became famous not only in the village of People Square but throughout the entire country. It served as a reminder of the importance of kindness, compassion, and living in harmony with all creatures.\n",
            "\n",
            "Today, if you ever visit People Square, you will still find lions roaming around the square, accepting cheese from the villagers. They continue to inspire generations with their timeless tale – a tale of how love and understanding can bridge the gap between different species.\n",
            "\n",
            "\n",
            "Processing Time after Fine-Tuning :  7.558913946151733\n"
          ]
        }
      ]
    }
  ]
}